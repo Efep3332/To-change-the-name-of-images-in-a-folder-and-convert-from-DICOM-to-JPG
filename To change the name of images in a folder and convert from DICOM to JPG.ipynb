{
 "cells": [
  {
   "cell_type": "markdown",
   "id": "5c9a30e0-5ec4-4e68-b0c1-89cabf669a1b",
   "metadata": {},
   "source": [
    "\n",
    " This code generates a unique name for each DICOM image\n",
    " This code convers DICOM files to JPG file\n",
    " This code is designed to handle a deeper folder structure\n",
    " The os.walk() to recursively traverse through all folders and subfolders, locating DICOM files and converting them to JPG, extract them and combine them in the new output folder.  "
   ]
  },
  {
   "cell_type": "code",
   "execution_count": 1,
   "id": "059ba8ba-f8ce-4745-b49c-d79e5253c33d",
   "metadata": {},
   "outputs": [
    {
     "name": "stdout",
     "output_type": "stream",
     "text": [
      "Requirement already satisfied: pydicom in c:\\users\\public\\efendim\\envs\\efe\\lib\\site-packages (2.4.4)\n",
      "Requirement already satisfied: Pillow in c:\\users\\public\\efendim\\envs\\efe\\lib\\site-packages (10.1.0)\n",
      "Note: you may need to restart the kernel to use updated packages.\n"
     ]
    }
   ],
   "source": [
    "pip install pydicom Pillow"
   ]
  },
  {
   "cell_type": "code",
   "execution_count": 12,
   "id": "d3722c51",
   "metadata": {},
   "outputs": [],
   "source": [
    "import os\n",
    "from pathlib import Path\n",
    "import pydicom\n",
    "from PIL import Image\n",
    "import matplotlib.pyplot as plt\n",
    "from pydicom.pixel_data_handlers.util import apply_modality_lut"
   ]
  },
  {
   "cell_type": "code",
   "execution_count": null,
   "id": "c1d07ff8-82d6-4b60-abba-3513d37ec8ac",
   "metadata": {},
   "outputs": [],
   "source": [
    "def convert_dicom_to_jpg(dicom_path, output_folder):\n",
    "    # Load DICOM file\n",
    "    dicom_data = pydicom.dcmread(dicom_path)\n",
    "\n",
    "    # Ensure pixel data is monochrome\n",
    "    if dicom_data.PhotometricInterpretation != \"MONOCHROME2\":\n",
    "        raise ValueError(\"Only MONOCHROME2 images are supported.\")\n",
    "\n",
    "    # Apply modality LUT\n",
    "    pixel_data = apply_modality_lut(dicom_data.pixel_array, dicom_data)\n",
    "\n",
    "    # Select a middle slice if the pixel data has three dimensions\n",
    "    if len(pixel_data.shape) == 3:\n",
    "        middle_slice = pixel_data.shape[0] // 2\n",
    "        pixel_data = pixel_data[middle_slice, :, :]\n",
    "\n",
    "    # Create output file path with a new name (e.g., \"brain_tumor_001.jpg\")\n",
    "    jpg_filename = f\"brain_tumor_{dicom_data.SOPInstanceUID}.jpg\"\n",
    "    jpg_path = os.path.join(output_folder, jpg_filename)\n",
    "\n",
    "    # Plot and save the DICOM pixel array using matplotlib\n",
    "    plt.imshow(pixel_data, cmap=plt.cm.bone)\n",
    "    plt.axis('off')  # Turn off axis labels\n",
    "    plt.savefig(jpg_path, bbox_inches='tight', pad_inches=0, format='jpg')\n",
    "    plt.close()\n",
    "\n",
    "\n",
    "def process_dicom_folder(input_folder, output_folder):\n",
    "    # Ensure the output folder exists\n",
    "    os.makedirs(output_folder, exist_ok=True)\n",
    "\n",
    "    # Recursively iterate over all files in the input folder and its subfolders\n",
    "    for root, _, files in os.walk(input_folder):\n",
    "        for file in files:\n",
    "            if file.lower().endswith(\".dcm\"):\n",
    "                dicom_path = os.path.join(root, file)\n",
    "                convert_dicom_to_jpg(dicom_path, output_folder)\n",
    "\n",
    "if __name__ == \"__main__\":\n",
    "    # Replace 'input_folder' with the path to the root folder containing DICOM files\n",
    "    input_folder = r\"C:\\Users\\net pc\\Desktop\\THESIS PROJECT\\Test Dataset\\BRAIN TUMOR TEST (manifest-1695134609823\\ReMIND.py\"\n",
    "\n",
    "    # Replace 'output_folder' with the path where you want to save the converted JPG images\n",
    "    output_folder = r\"C:\\Users\\net pc\\Desktop\\THESIS PROJECT\\Test Dataset\\BRAIN TUMOR TEST (manifest-1695134609823\\combined_brain_test.py\"\n",
    "\n",
    "    process_dicom_folder(input_folder, output_folder)"
   ]
  },
  {
   "cell_type": "code",
   "execution_count": null,
   "id": "320e1aa2-09ef-4574-b8e0-5346ff22d3ca",
   "metadata": {},
   "outputs": [],
   "source": []
  },
  {
   "cell_type": "code",
   "execution_count": null,
   "id": "53fd2ea3-b546-4d88-9409-f4b013aeb467",
   "metadata": {},
   "outputs": [],
   "source": []
  },
  {
   "cell_type": "code",
   "execution_count": null,
   "id": "d0f268f0",
   "metadata": {},
   "outputs": [],
   "source": []
  }
 ],
 "metadata": {
  "kernelspec": {
   "display_name": "Python 3 (ipykernel)",
   "language": "python",
   "name": "python3"
  },
  "language_info": {
   "codemirror_mode": {
    "name": "ipython",
    "version": 3
   },
   "file_extension": ".py",
   "mimetype": "text/x-python",
   "name": "python",
   "nbconvert_exporter": "python",
   "pygments_lexer": "ipython3",
   "version": "3.9.18"
  }
 },
 "nbformat": 4,
 "nbformat_minor": 5
}
